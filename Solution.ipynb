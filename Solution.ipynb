{
 "cells": [
  {
   "cell_type": "code",
   "execution_count": 1,
   "metadata": {},
   "outputs": [],
   "source": [
    "from typing import List, Tuple\n",
    "from datetime import datetime"
   ]
  },
  {
   "cell_type": "markdown",
   "metadata": {},
   "source": [
    "# Question 1"
   ]
  },
  {
   "cell_type": "code",
   "execution_count": 4,
   "metadata": {},
   "outputs": [],
   "source": [
    "from modules.helper_time_Q1 import get_data;\n",
    "from modules.helper_time_Q1 import get_top_10_users_for_top_10_dates\n",
    "from modules.helper_memory_Q1 import get_data_Q;\n",
    "\n",
    "\n",
    "def q1_time(file_path: str) -> List[Tuple[datetime.date, str]]:\n",
    "    data = get_data(file_path)\n",
    "    top_10 = get_top_10_users_for_top_10_dates(data)\n",
    "    return top_10\n",
    "\n",
    "def q1_memory(file_path: str) -> List[Tuple[datetime.date, str]]:\n",
    "    return get_data_Q(file_path)"
   ]
  },
  {
   "cell_type": "markdown",
   "metadata": {},
   "source": [
    "# Question 2"
   ]
  },
  {
   "cell_type": "code",
   "execution_count": 19,
   "metadata": {},
   "outputs": [],
   "source": [
    "from modules.helper_time_Q2 import emoji_pattern\n",
    "import multiprocessing\n",
    "import re\n",
    "import json\n",
    "from collections import Counter\n",
    "from typing import List, Tuple\n",
    "\n",
    "def get_data(file_path: str):\n",
    "    data = []\n",
    "    with open(file_path, encoding='utf-8') as f:\n",
    "        for line in f:\n",
    "            tweet = json.loads(line)\n",
    "            data.append(tweet['content'])\n",
    "    return data\n",
    "\n",
    "def find_emoji(data: List[str]):\n",
    "    \n",
    "    emoji_counter = Counter()\n",
    "    with multiprocessing.Pool(processes=num_processes) as pool:\n",
    "        emoji_lists = pool.map(count_emojis, tweet_texts)\n",
    "        for emojis in emoji_lists:\n",
    "            emoji_counter.update(emojis)\n",
    "    # Get the 10 most common emojis\n",
    "    top_10_emojis = emoji_counter.most_common(10)\n",
    "\n",
    "def q2_time(file_path: str):\n",
    "    data = get_data(file_path)\n",
    "    top_10 = find_emoji(data)\n",
    "    return top_10\n",
    "\n",
    "\n",
    "\n",
    "file_path = '/home/rodrigo/Proyectos_python/Data-Engineer-challenge-Rodrigo-Garcia/tweets/farmers-protest-tweets-2021-2-4.json'\n",
    "data = q2_time(file_path)\n",
    "\n",
    "\n"
   ]
  },
  {
   "cell_type": "code",
   "execution_count": 6,
   "metadata": {},
   "outputs": [
    {
     "name": "stdout",
     "output_type": "stream",
     "text": [
      "'🙏' - 2104 occurrences\n",
      "'🌾' - 573 occurrences\n",
      "'💚' - 526 occurrences\n",
      "'😂' - 491 occurrences\n",
      "'👍' - 467 occurrences\n",
      "'👉' - 450 occurrences\n",
      "'🇮🇳' - 424 occurrences\n",
      "'🙏🙏' - 400 occurrences\n",
      "'👇' - 375 occurrences\n",
      "'🙏🏽' - 326 occurrences\n"
     ]
    }
   ],
   "source": [
    "import json\n",
    "import re\n",
    "from collections import Counter\n",
    "import multiprocessing\n",
    "\n",
    "def get_data(file_path: str):\n",
    "    data = []\n",
    "    with open(file_path, encoding='utf-8') as f:\n",
    "        for line in f:\n",
    "            tweet = json.loads(line)\n",
    "            data.append(tweet['content'])\n",
    "    return data\n",
    "\n",
    "def count_emojis(tweet_text):\n",
    "    emoji_pattern = re.compile(r\"[\\U0001F600-\\U0001F64F\"\n",
    "                            r\"\\U0001F300-\\U0001F5FF\"\n",
    "                            r\"\\U0001F680-\\U0001F6FF\"\n",
    "                            r\"\\U0001F700-\\U0001F77F\"\n",
    "                            r\"\\U0001F780-\\U0001F7FF\"\n",
    "                            r\"\\U0001F800-\\U0001F8FF\"\n",
    "                            r\"\\U0001F900-\\U0001F9FF\"\n",
    "                            r\"\\U0001FA00-\\U0001FA6F\"\n",
    "                            r\"\\U0001FA70-\\U0001FAFF\"\n",
    "                            r\"\\U0001F004-\\U0001F0CF\"\n",
    "                            r\"\\U0001F170-\\U0001F251]+\", flags=re.UNICODE)\n",
    "    \n",
    "    emojis = emoji_pattern.findall(tweet_text)\n",
    "    return emojis\n",
    "\n",
    "def count_top_emojis(json_file_path, num_processes=4, top_n=10):\n",
    "    # Open and read the JSON file\n",
    "    tweet_texts = get_data(json_file_path)\n",
    "\n",
    "    # Count emoji occurrences using multiprocessing\n",
    "    emoji_counter = Counter()\n",
    "    with multiprocessing.Pool(processes=num_processes) as pool:\n",
    "        emoji_lists = pool.map(count_emojis, tweet_texts)\n",
    "        for emojis in emoji_lists:\n",
    "            emoji_counter.update(emojis)\n",
    "\n",
    "    # Get the top N most common emojis\n",
    "    top_n_emojis = emoji_counter.most_common(top_n)\n",
    "\n",
    "    return top_n_emojis\n",
    "\n",
    "# Example usage:\n",
    "file_path = '/home/rodrigo/Proyectos_python/Data-Engineer-challenge-Rodrigo-Garcia/tweets/farmers-protest-tweets-2021-2-4.json'\n",
    "top_10_emojis = count_top_emojis(file_path, num_processes=4, top_n=10)\n",
    "for emoji, count in top_10_emojis:\n",
    "    print(f\"'{emoji}' - {count} occurrences\")"
   ]
  }
 ],
 "metadata": {
  "kernelspec": {
   "display_name": ".env",
   "language": "python",
   "name": "python3"
  },
  "language_info": {
   "codemirror_mode": {
    "name": "ipython",
    "version": 3
   },
   "file_extension": ".py",
   "mimetype": "text/x-python",
   "name": "python",
   "nbconvert_exporter": "python",
   "pygments_lexer": "ipython3",
   "version": "3.10.10"
  },
  "orig_nbformat": 4
 },
 "nbformat": 4,
 "nbformat_minor": 2
}
