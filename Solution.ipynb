{
 "cells": [
  {
   "cell_type": "code",
   "execution_count": 1,
   "metadata": {},
   "outputs": [],
   "source": [
    "from typing import List, Tuple\n",
    "from datetime import datetime"
   ]
  },
  {
   "cell_type": "markdown",
   "metadata": {},
   "source": [
    "# Question 1"
   ]
  },
  {
   "cell_type": "code",
   "execution_count": 4,
   "metadata": {},
   "outputs": [],
   "source": [
    "from modules.helper_time_Q1 import get_data;\n",
    "from modules.helper_time_Q1 import get_top_10_users_for_top_10_dates\n",
    "from modules.helper_memory_Q1 import get_data_Q;\n",
    "\n",
    "\n",
    "def q1_time(file_path: str) -> List[Tuple[datetime.date, str]]:\n",
    "    data = get_data(file_path)\n",
    "    top_10 = get_top_10_users_for_top_10_dates(data)\n",
    "    return top_10\n",
    "\n",
    "def q1_memory(file_path: str) -> List[Tuple[datetime.date, str]]:\n",
    "    return get_data_Q(file_path)"
   ]
  },
  {
   "cell_type": "markdown",
   "metadata": {},
   "source": [
    "# Question 2"
   ]
  },
  {
   "cell_type": "code",
   "execution_count": 9,
   "metadata": {},
   "outputs": [
    {
     "name": "stdout",
     "output_type": "stream",
     "text": [
      "The most popular emoji is '🙏' with 2104 occurrences.\n"
     ]
    }
   ],
   "source": [
    "from modules.helper_time_Q2 import emoji_pattern\n",
    "import re\n",
    "import json\n",
    "from collections import Counter\n",
    "from typing import List, Tuple\n",
    "\n",
    "def get_data(file_path: str):\n",
    "    data = []\n",
    "    with open(file_path, encoding='utf-8') as f:\n",
    "        for line in f:\n",
    "            tweet = json.loads(line)\n",
    "            data.append(tweet['content'])\n",
    "    return data\n",
    "def find_emoji(data: List[str]):\n",
    "    # Count emoji occurrences\n",
    "    all_emojis = []\n",
    "    for tweet_text in data:\n",
    "        emojis = re.findall(emoji_pattern, tweet_text)\n",
    "        all_emojis.extend(emojis)\n",
    "\n",
    "    # Calculate the 10 most popular emojis\n",
    "    emoji_counter = Counter(all_emojis)\n",
    "    top_10_emojis = emoji_counter.most_common(10)\n",
    "\n",
    "    # Print the top 10 emojis with their occurrence counts\n",
    "    for emoji, count in top_10_emojis:\n",
    "        print(f\"'{emoji}' - {count} occurrences\")\n",
    "    return top_10_emojis\n",
    "\n",
    "def q2_time(file_path: str):\n",
    "    data = get_data(file_path)\n",
    "    top_10 = find_emoji(data)\n",
    "    return top_10\n",
    "\n",
    "\n",
    "\n",
    "file_path = '/home/rodrigo/Proyectos_python/Data-Engineer-challenge-Rodrigo-Garcia/tweets/farmers-protest-tweets-2021-2-4.json'\n",
    "data = q2_time(file_path)\n",
    "\n",
    "\n"
   ]
  }
 ],
 "metadata": {
  "kernelspec": {
   "display_name": ".env",
   "language": "python",
   "name": "python3"
  },
  "language_info": {
   "codemirror_mode": {
    "name": "ipython",
    "version": 3
   },
   "file_extension": ".py",
   "mimetype": "text/x-python",
   "name": "python",
   "nbconvert_exporter": "python",
   "pygments_lexer": "ipython3",
   "version": "3.10.10"
  },
  "orig_nbformat": 4
 },
 "nbformat": 4,
 "nbformat_minor": 2
}
